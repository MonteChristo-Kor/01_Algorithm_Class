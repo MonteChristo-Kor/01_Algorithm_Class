{
 "cells": [
  {
   "cell_type": "code",
   "execution_count": 14,
   "metadata": {},
   "outputs": [
    {
     "name": "stdout",
     "output_type": "stream",
     "text": [
      "[1, 2, 2, 3, 4, 5, 6, 7, 8, 9]\n"
     ]
    }
   ],
   "source": [
    "# 선택 정렬\n",
    "# 선택 정렬이란 처음 혹은 마지막에 포인트를 가져다 대고 그 포인트부터 가장 낮은 수 혹은 가장 큰 수를 채워나가는 방식이다\n",
    "# 즉 0번부터 시작하면 0번부터 마지막까지 가장 작은 수를 0번과 교환하고 1번으로 넘어가서 같은 작업을 반복하는 행위이다.\n",
    "\n",
    "class Sort :\n",
    "    def selection_sort(self, num) :\n",
    "        for i in range(len(num)) :\n",
    "            min_num = 999999\n",
    "            count = 0\n",
    "            for j in range(i, len(num)) :\n",
    "                if min_num > num[j] :\n",
    "                    min_num = num[j]\n",
    "                    count = j\n",
    "            num[count] = num[i]\n",
    "            num[i] = min_num\n",
    "        return num\n",
    "    \n",
    "    def insert_sort(self, num) :\n",
    "        for i in range(1, len(num)):\n",
    "            min_num = 99999\n",
    "            temp = 0\n",
    "            for j in range(i, -1, -1) :\n",
    "                if j >= 1 :\n",
    "                    if num[j] < num[j-1] :\n",
    "                        temp = num[j]\n",
    "                        num[j] = num[j-1]\n",
    "                        num[j-1] = temp\n",
    "                else : \n",
    "                    continue\n",
    "        return num\n",
    "    \n",
    "    def bubble_sort(self, num) :\n",
    "        for i in range(len(num), -1, -1) :\n",
    "            max_num = -9999999\n",
    "            temp = 0\n",
    "            for j in range(i-1) :\n",
    "                if num[j] > num[j+1] :\n",
    "                    temp = num[j]\n",
    "                    num[j] = num[j+1]\n",
    "                    num[j+1] = temp\n",
    "        return num\n",
    "                \n",
    "c = Sort()\n",
    "a = [9, 3, 4, 5, 1, 2, 6, 2, 7, 8]\n",
    "\n",
    "print(c.bubble_sort(a))"
   ]
  },
  {
   "cell_type": "code",
   "execution_count": 17,
   "metadata": {},
   "outputs": [
    {
     "name": "stdout",
     "output_type": "stream",
     "text": [
      "5\n",
      "1\n",
      "3\n",
      "2\n",
      "4\n",
      "5\n",
      "1\n",
      "2\n",
      "3\n",
      "4\n",
      "5\n"
     ]
    }
   ],
   "source": [
    "# 선택 정렬을 통한 문제 풀이\n",
    "\n",
    "count = int(input())\n",
    "num = []\n",
    "\n",
    "for i in range(count) :\n",
    "    num.append(int(input()))\n",
    "    \n",
    "\n",
    "for i in range(len(num)) :\n",
    "    min_num = 999999\n",
    "    count = 0\n",
    "    for j in range(i, len(num)) :\n",
    "        if min_num > num[j] :\n",
    "            min_num = num[j]\n",
    "            count = j\n",
    "    num[count] = num[i]\n",
    "    num[i] = min_num\n",
    "\n",
    "for i in num :\n",
    "    print(i)"
   ]
  },
  {
   "cell_type": "code",
   "execution_count": null,
   "metadata": {},
   "outputs": [],
   "source": [
    "# 삽입 정렬을 통한 문제 풀이\n",
    "count = int(input())\n",
    "num = []\n",
    "\n",
    "for j in range(count) :\n",
    "    num.append(int(input()))\n",
    "\n",
    "for i in range(1, len(num)):\n",
    "    min_num = 99999\n",
    "    temp = 0\n",
    "    for j in range(i, -1, -1) :\n",
    "        if j >= 1 :\n",
    "            if num[j] < num[j-1] :\n",
    "                temp = num[j]\n",
    "                num[j] = num[j-1]\n",
    "                num[j-1] = temp\n",
    "        else : \n",
    "            continue\n",
    "            \n",
    "for i in num :\n",
    "    print(i)"
   ]
  },
  {
   "cell_type": "code",
   "execution_count": null,
   "metadata": {},
   "outputs": [],
   "source": [
    "# 버블 정렬을 통한 문제 풀이\n",
    "count = int(input())\n",
    "num = []\n",
    "\n",
    "for j in range(count) :\n",
    "    num.append(int(input()))\n",
    "\n",
    "for i in range(len(num), -1, -1) :\n",
    "    max_num = -9999999\n",
    "    temp = 0\n",
    "    for j in range(i-1) :\n",
    "        if num[j] > num[j+1] :\n",
    "            temp = num[j]\n",
    "            num[j] = num[j+1]\n",
    "            num[j+1] = temp    \n",
    "for i in num :\n",
    "    print(i)"
   ]
  }
 ],
 "metadata": {
  "kernelspec": {
   "display_name": "Python 3",
   "language": "python",
   "name": "python3"
  },
  "language_info": {
   "codemirror_mode": {
    "name": "ipython",
    "version": 3
   },
   "file_extension": ".py",
   "mimetype": "text/x-python",
   "name": "python",
   "nbconvert_exporter": "python",
   "pygments_lexer": "ipython3",
   "version": "3.7.6"
  }
 },
 "nbformat": 4,
 "nbformat_minor": 4
}
